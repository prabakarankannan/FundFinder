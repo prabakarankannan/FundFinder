{
 "cells": [
  {
   "cell_type": "code",
   "execution_count": 1,
   "metadata": {},
   "outputs": [],
   "source": [
    "import requests\n",
    "from bs4 import BeautifulSoup \n",
    "import pandas as pd\n",
    "import numpy as np"
   ]
  },
  {
   "cell_type": "code",
   "execution_count": 2,
   "metadata": {},
   "outputs": [
    {
     "data": {
      "text/plain": [
       "'Expense ratio: 0.08%'"
      ]
     },
     "execution_count": 2,
     "metadata": {},
     "output_type": "execute_result"
    }
   ],
   "source": [
    "fund_url = \"https://groww.in//mutual-funds/bnp-paribas-overnight-fund-direct-growth-c\"\n",
    "fund_list_page = requests.get(fund_url)\n",
    "fund_list_page_htmlcontent = fund_list_page.content\n",
    "fund_list_page_soup = BeautifulSoup(fund_list_page_htmlcontent, 'html.parser')\n",
    "\n",
    "fund_list_page_soup.find('h3', {'class' : 'ot654subHeading bodyLargeHeavy'}).text"
   ]
  },
  {
   "cell_type": "code",
   "execution_count": 24,
   "metadata": {},
   "outputs": [
    {
     "name": "stdout",
     "output_type": "stream",
     "text": [
      "                  0              1\n",
      "0  NAV: 13 Mar 2022      ₹1,116.76\n",
      "1   Min. SIP amount  Not Supported\n",
      "           0         1\n",
      "0     Rating         3\n",
      "1  Fund size  ₹61.44Cr\n",
      "              Unnamed: 0    3M    6M    1Y    All\n",
      "0           Fund returns  0.8%  1.7%  3.3%  11.7%\n",
      "1       Category average   NaN   NaN  6.7%    NaN\n",
      "2  Rank with in category    19    14    22    NaN\n",
      "                   Name    Sector Instrument Assets\n",
      "0  Reliance Retail Ltd.  Services         CP  9.06%\n",
      "                                 0              1\n",
      "0          Min. for 1st investment  Not Supported\n",
      "1  Min. for 2nd investment onwards  Not Supported\n",
      "              0              1\n",
      "0  Min. for SIP  Not Supported\n",
      "                     0   1\n",
      "0  Rank (total assets) NaN\n",
      "1            Total AUM NaN\n",
      "                       0   1\n",
      "0  Date of Incorporation NaN\n",
      "                0                       1\n",
      "0  Fund benchmark  CRISIL Overnight Index\n"
     ]
    }
   ],
   "source": [
    "tables = pd.read_html(fund_url)\n",
    "for df in tables : \n",
    "    print(df)"
   ]
  },
  {
   "cell_type": "code",
   "execution_count": null,
   "metadata": {},
   "outputs": [],
   "source": []
  }
 ],
 "metadata": {
  "kernelspec": {
   "display_name": "Python 3",
   "language": "python",
   "name": "python3"
  },
  "language_info": {
   "codemirror_mode": {
    "name": "ipython",
    "version": 3
   },
   "file_extension": ".py",
   "mimetype": "text/x-python",
   "name": "python",
   "nbconvert_exporter": "python",
   "pygments_lexer": "ipython3",
   "version": "3.12.0"
  }
 },
 "nbformat": 4,
 "nbformat_minor": 2
}
