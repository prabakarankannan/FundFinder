{
 "cells": [
  {
   "cell_type": "code",
   "execution_count": 1,
   "metadata": {},
   "outputs": [],
   "source": [
    "import requests\n",
    "from bs4 import BeautifulSoup \n",
    "import pandas as pd\n",
    "import numpy as np"
   ]
  },
  {
   "cell_type": "code",
   "execution_count": 2,
   "metadata": {},
   "outputs": [
    {
     "data": {
      "text/plain": [
       "'Expense ratio: 0.08%'"
      ]
     },
     "execution_count": 2,
     "metadata": {},
     "output_type": "execute_result"
    }
   ],
   "source": [
    "fund_url = \"https://groww.in//mutual-funds/bnp-paribas-overnight-fund-direct-growth-c\"\n",
    "fund_list_page = requests.get(fund_url)\n",
    "fund_list_page_htmlcontent = fund_list_page.content\n",
    "fund_list_page_soup = BeautifulSoup(fund_list_page_htmlcontent, 'html.parser')\n",
    "\n",
    "fund_list_page_soup.find('h3', {'class' : 'ot654subHeading bodyLargeHeavy'}).text"
   ]
  },
  {
   "cell_type": "code",
   "execution_count": 23,
   "metadata": {},
   "outputs": [
    {
     "name": "stdout",
     "output_type": "stream",
     "text": [
      "['Mayank Prakash', 'Vikram Pamnani']\n",
      "['Apr 2019 - Present', 'Apr 2019 - Present']\n",
      "[['Mr. Prakash is a Chartered Accountant and MBA (Finance).', 'Prior to joining Baroda BNP Paribas Mutual Fund he has worked with Kotak AMC.'], ['Mr. Pamnani holds PGDM in Finance.', 'Prior to joining Baroda BNP Paribas Mutual Fund, he worked with Essel Finance AMC Ltd. as Fund Manager, Canara Robeco AMC Ltd. as Fixed Income Dealer & Deutsche Bank as Process Executive.']]\n",
      "[['Baroda BNP Paribas Gilt Direct Growth', 'Baroda BNP Paribas Short Duration Direct Fund Growth', 'Baroda BNP Paribas Liquid Direct Fund Growth', 'BNP Paribas Short Term Fund Direct Growth', 'Baroda BNP Paribas Medium Duration Fund Direct Growth', 'BNP Paribas Liquid Fund Direct Growth', 'Baroda BNP Paribas Credit Risk Fund Direct Growth', 'Baroda BNP Paribas Arbitrage Fund Direct Growth', 'Baroda BNP Paribas Aggressive Hybrid Fund Direct Growth', 'Baroda BNP Paribas Ultra Short Duration Fund Direct Growth', 'BNP Paribas Dynamic Equity Fund Direct Growth', 'BNP Paribas Overnight Fund Direct Growth', 'Baroda BNP Paribas Money Market Fund Direct Growth', 'Baroda BNP Paribas Equity Savings Fund Direct Growth', 'Baroda BNP Paribas Credit Risk Fund Segregated Portfolio 1 Direct Growth', 'Baroda BNP Paribas Banking & PSU Bond Fund Direct Growth', 'Baroda BNP Paribas Nifty SDL December 2026 Index Fund Direct Growth', 'Baroda BNP Paribas NIFTY SDL December 2028 Index Fund Direct Growth', 'Baroda BNP Paribas Floater Fund Direct Growth'], ['Baroda BNP Paribas Gilt Direct Growth', 'Baroda BNP Paribas Short Duration Direct Fund Growth', 'Baroda BNP Paribas Liquid Direct Fund Growth', 'BNP Paribas Short Term Fund Direct Growth', 'Baroda BNP Paribas Medium Duration Fund Direct Growth', 'BNP Paribas Liquid Fund Direct Growth', 'Baroda BNP Paribas Credit Risk Fund Direct Growth', 'Baroda BNP Paribas Ultra Short Duration Fund Direct Growth', 'BNP Paribas Overnight Fund Direct Growth', 'Baroda BNP Paribas Money Market Fund Direct Growth', 'Baroda BNP Paribas Equity Savings Fund Direct Growth', 'Baroda BNP Paribas Credit Risk Fund Segregated Portfolio 1 Direct Growth', 'Baroda BNP Paribas Banking & PSU Bond Fund Direct Growth', 'Baroda BNP Paribas Arbitrage Fund Direct Growth', 'Baroda BNP Paribas Aggressive Hybrid Fund Direct Growth', 'Baroda BNP Paribas Overnight Fund Direct Growth', 'Baroda BNP Paribas Multi Asset Fund Direct Growth', 'Baroda BNP Paribas Nifty SDL December 2026 Index Fund Direct Growth', 'Baroda BNP Paribas NIFTY SDL December 2028 Index Fund Direct Growth', 'Baroda BNP Paribas Floater Fund Direct Growth', 'Baroda BNP Paribas Retirement Fund Direct Growth']]\n",
      "[19, 21]\n"
     ]
    }
   ],
   "source": [
    "fund_manager_details = fund_list_page_soup.find_all('div', {'class' : 'cur-po fm982AboutFundManager'})\n",
    "name = [div.find('h3').find('div', {'class' : 'fm982PersonName contentPrimary bodyLargeHeavy'}).text.strip() for div in fund_manager_details]\n",
    "tenior = [div.find('h3').find('div', {'class' : 'contentSecondary bodyBase'}).text.strip() for div in fund_manager_details]\n",
    "details = [[fund.text.strip() for fund in div.find_all('div', {'class' : 'contentPrimary bodyLarge'})] for div in fund_manager_details]\n",
    "also_managed = [[fund.text.strip() for fund in div.find_all('div', {'class' : 'fm982ExpandFundsManaged'})] for div in fund_manager_details]\n",
    "num_funds = [len(div.find_all('div', {'class' : 'fm982ExpandFundsManaged'}) )for div in fund_manager_details]\n",
    "\n",
    "print(name)\n",
    "print(tenior)\n",
    "print(details)\n",
    "print(also_managed)\n",
    "print(num_funds)"
   ]
  },
  {
   "cell_type": "code",
   "execution_count": null,
   "metadata": {},
   "outputs": [],
   "source": []
  }
 ],
 "metadata": {
  "kernelspec": {
   "display_name": "Python 3",
   "language": "python",
   "name": "python3"
  },
  "language_info": {
   "codemirror_mode": {
    "name": "ipython",
    "version": 3
   },
   "file_extension": ".py",
   "mimetype": "text/x-python",
   "name": "python",
   "nbconvert_exporter": "python",
   "pygments_lexer": "ipython3",
   "version": "3.12.0"
  }
 },
 "nbformat": 4,
 "nbformat_minor": 2
}
